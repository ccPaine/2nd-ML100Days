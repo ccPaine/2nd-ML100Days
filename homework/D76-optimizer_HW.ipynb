{
 "cells": [
  {
   "cell_type": "markdown",
   "metadata": {},
   "source": [
    "# 作業重點:\n",
    "\n",
    "(1)以, Adam, 為例, 調整 batch_size, epoch , 觀察accurancy, loss 的變化\n",
    "\n",
    "(2)以同一模型, 分別驗證 SGD, Adam, Rmsprop 的 accurancy"
   ]
  },
  {
   "cell_type": "markdown",
   "metadata": {},
   "source": [
    "# 作業目標:\n",
    "    \n",
    "    取得各種優化器的運算結果"
   ]
  },
  {
   "cell_type": "code",
   "execution_count": 26,
   "metadata": {},
   "outputs": [],
   "source": [
    "import keras\n",
    "#from keras.datasets import cifar10\n",
    "from keras.datasets import mnist \n",
    "from keras.preprocessing.image import ImageDataGenerator\n",
    "from keras.models import Sequential, load_model\n",
    "from keras.layers import Dense, Dropout, Activation, Flatten\n",
    "from keras.layers import Conv2D, MaxPooling2D\n",
    "from keras import optimizers\n",
    "from keras.callbacks import EarlyStopping, ModelCheckpoint\n",
    "import numpy\n",
    "\n",
    "import warnings\n",
    "warnings.filterwarnings('ignore')"
   ]
  },
  {
   "cell_type": "code",
   "execution_count": 27,
   "metadata": {},
   "outputs": [],
   "source": [
    "#    第一步：選擇模型, 順序模型是多個網絡層的線性堆疊\n",
    " \n",
    "model = Sequential()\n",
    "\n",
    "#   第二步：構建網絡層\n",
    " \n",
    "model.add(Dense( 500,input_shape=(784,))) # 輸入層，28*28=784   \n",
    "model.add(Activation('relu')) # 激活函數是relu   \n",
    "\n",
    "model.add(Dense( 500)) # 隱藏層節點500個   \n",
    "model.add(Activation('relu'))  \n",
    "\n",
    "model.add(Dense( 500)) # 隱藏層節點500個   \n",
    "model.add(Activation('relu'))  \n",
    "\n",
    "model.add(Dense( 500)) # 隱藏層節點500個   \n",
    "model.add(Activation('relu'))  \n",
    "\n",
    "model.add(Dense( 10)) # 輸出結果是10個類別，所以維度是10   \n",
    "model.add(Activation('softmax')) # 最後一層用softmax作為激活函數\n"
   ]
  },
  {
   "cell_type": "code",
   "execution_count": 28,
   "metadata": {},
   "outputs": [
    {
     "name": "stdout",
     "output_type": "stream",
     "text": [
      "Total Parameters：1149010\n"
     ]
    }
   ],
   "source": [
    "# 模型建立完成後，統計參數總量\n",
    "print(\"Total Parameters：%d\" % model.count_params())"
   ]
  },
  {
   "cell_type": "code",
   "execution_count": 29,
   "metadata": {},
   "outputs": [
    {
     "name": "stdout",
     "output_type": "stream",
     "text": [
      "_________________________________________________________________\n",
      "Layer (type)                 Output Shape              Param #   \n",
      "=================================================================\n",
      "dense_21 (Dense)             (None, 500)               392500    \n",
      "_________________________________________________________________\n",
      "activation_21 (Activation)   (None, 500)               0         \n",
      "_________________________________________________________________\n",
      "dense_22 (Dense)             (None, 500)               250500    \n",
      "_________________________________________________________________\n",
      "activation_22 (Activation)   (None, 500)               0         \n",
      "_________________________________________________________________\n",
      "dense_23 (Dense)             (None, 500)               250500    \n",
      "_________________________________________________________________\n",
      "activation_23 (Activation)   (None, 500)               0         \n",
      "_________________________________________________________________\n",
      "dense_24 (Dense)             (None, 500)               250500    \n",
      "_________________________________________________________________\n",
      "activation_24 (Activation)   (None, 500)               0         \n",
      "_________________________________________________________________\n",
      "dense_25 (Dense)             (None, 10)                5010      \n",
      "_________________________________________________________________\n",
      "activation_25 (Activation)   (None, 10)                0         \n",
      "=================================================================\n",
      "Total params: 1,149,010\n",
      "Trainable params: 1,149,010\n",
      "Non-trainable params: 0\n",
      "_________________________________________________________________\n"
     ]
    }
   ],
   "source": [
    "# 輸出模型摘要資訊\n",
    "model.summary()"
   ]
  },
  {
   "cell_type": "code",
   "execution_count": 30,
   "metadata": {},
   "outputs": [
    {
     "name": "stdout",
     "output_type": "stream",
     "text": [
      "Total Parameters：1149010\n"
     ]
    }
   ],
   "source": [
    "# 模型建立完成後，統計參數總量\n",
    "print(\"Total Parameters：%d\" % model.count_params())"
   ]
  },
  {
   "cell_type": "code",
   "execution_count": 31,
   "metadata": {},
   "outputs": [
    {
     "name": "stdout",
     "output_type": "stream",
     "text": [
      "_________________________________________________________________\n",
      "Layer (type)                 Output Shape              Param #   \n",
      "=================================================================\n",
      "dense_21 (Dense)             (None, 500)               392500    \n",
      "_________________________________________________________________\n",
      "activation_21 (Activation)   (None, 500)               0         \n",
      "_________________________________________________________________\n",
      "dense_22 (Dense)             (None, 500)               250500    \n",
      "_________________________________________________________________\n",
      "activation_22 (Activation)   (None, 500)               0         \n",
      "_________________________________________________________________\n",
      "dense_23 (Dense)             (None, 500)               250500    \n",
      "_________________________________________________________________\n",
      "activation_23 (Activation)   (None, 500)               0         \n",
      "_________________________________________________________________\n",
      "dense_24 (Dense)             (None, 500)               250500    \n",
      "_________________________________________________________________\n",
      "activation_24 (Activation)   (None, 500)               0         \n",
      "_________________________________________________________________\n",
      "dense_25 (Dense)             (None, 10)                5010      \n",
      "_________________________________________________________________\n",
      "activation_25 (Activation)   (None, 10)                0         \n",
      "=================================================================\n",
      "Total params: 1,149,010\n",
      "Trainable params: 1,149,010\n",
      "Non-trainable params: 0\n",
      "_________________________________________________________________\n"
     ]
    }
   ],
   "source": [
    "# 輸出模型摘要資訊\n",
    "model.summary()"
   ]
  },
  {
   "cell_type": "code",
   "execution_count": 32,
   "metadata": {},
   "outputs": [],
   "source": [
    "'''\n",
    "Adam - Arguments\n",
    "• lr：float >= 0. 學習率。\n",
    "• beta_1：float, 0 < beta < 1. 通常接近於 1。\n",
    "• beta_2：float, 0 < beta < 1. 通常接近於 1。\n",
    "• epsilon：float >= 0. 模糊因數. 若若為 None, 默認為 K.epsilon()。\n",
    "• amsgrad：boolean. 是否應⽤用此演算法的 AMSGrad 變種，來來⾃自論⽂文 「On the Convergence of Adam and\n",
    "Beyond」\n",
    "• decay：float >= 0. 每次參參數更更新後學習率衰減值。\n",
    "'''\n",
    "\n",
    "opt = optimizers. Adam(lr=0.001, epsilon=None, decay=0.0)\n"
   ]
  },
  {
   "cell_type": "code",
   "execution_count": 33,
   "metadata": {},
   "outputs": [],
   "source": [
    "# 第三步：編譯, \n",
    "model.compile(optimizer = opt, loss = 'binary_crossentropy', metrics = ['accuracy'])"
   ]
  },
  {
   "cell_type": "code",
   "execution_count": 34,
   "metadata": {},
   "outputs": [],
   "source": [
    "#  第四步：資料分割\n",
    "# 使用Keras自帶的mnist工具讀取數據（第一次需要聯網）\n",
    "(X_train, y_train), (X_test, y_test) = mnist.load_data() \n",
    "\n",
    "# 由於mist的輸入數據維度是(num, 28 , 28)，這裡需要把後面的維度直接拼起來變成784維   \n",
    "X_train = X_train.reshape(X_train.shape[0], X_train.shape[1] * X_train.shape[2 ])\n",
    "X_test = X_test.reshape(X_test.shape[0], X_test.shape[1] * X_test.shape[2 ])  \n",
    "Y_train = (numpy.arange(10) == y_train[:, None]).astype(int)\n",
    "Y_test = (numpy.arange(10) == y_test[:, None]).astype(int)\n"
   ]
  },
  {
   "cell_type": "code",
   "execution_count": 35,
   "metadata": {},
   "outputs": [],
   "source": [
    "'''\n",
    "   宣告並設定\n",
    "   batch_size：對總的樣本數進行分組，每組包含的樣本數量\n",
    "   epochs ：訓練次數\n",
    "   \n",
    "''' \n",
    "batch_size = 128\n",
    "epochs = 10"
   ]
  },
  {
   "cell_type": "code",
   "execution_count": 36,
   "metadata": {},
   "outputs": [
    {
     "name": "stdout",
     "output_type": "stream",
     "text": [
      "Train on 42000 samples, validate on 18000 samples\n",
      "Epoch 1/10\n",
      " - 9s - loss: 2.9145 - acc: 0.8180 - val_loss: 2.9145 - val_acc: 0.8182\n",
      "Epoch 2/10\n",
      " - 8s - loss: 2.9172 - acc: 0.8180 - val_loss: 2.9145 - val_acc: 0.8182\n",
      "Epoch 3/10\n",
      " - 8s - loss: 2.9172 - acc: 0.8180 - val_loss: 2.9145 - val_acc: 0.8182\n",
      "Epoch 4/10\n",
      " - 7s - loss: 2.9172 - acc: 0.8180 - val_loss: 2.9145 - val_acc: 0.8182\n",
      "Epoch 5/10\n",
      " - 7s - loss: 2.9172 - acc: 0.8180 - val_loss: 2.9145 - val_acc: 0.8182\n",
      "Epoch 6/10\n",
      " - 7s - loss: 2.9172 - acc: 0.8180 - val_loss: 2.9145 - val_acc: 0.8182\n",
      "Epoch 7/10\n",
      " - 8s - loss: 2.9172 - acc: 0.8180 - val_loss: 2.9145 - val_acc: 0.8182\n",
      "Epoch 8/10\n",
      " - 7s - loss: 2.9172 - acc: 0.8180 - val_loss: 2.9145 - val_acc: 0.8182\n",
      "Epoch 9/10\n",
      " - 8s - loss: 2.9172 - acc: 0.8180 - val_loss: 2.9145 - val_acc: 0.8182\n",
      "Epoch 10/10\n",
      " - 7s - loss: 2.9172 - acc: 0.8180 - val_loss: 2.9145 - val_acc: 0.8182\n"
     ]
    }
   ],
   "source": [
    "# 第五步：訓練, 修正 model 參數\n",
    "#Blas GEMM launch failed , 避免動態分配GPU / CPU, 出現問題\n",
    "import tensorflow as tf\n",
    "gpu_options = tf.GPUOptions(per_process_gpu_memory_fraction=0.333)\n",
    "sess = tf.Session(config=tf.ConfigProto(gpu_options=gpu_options))\n",
    "\n",
    "\n",
    "history = model.fit(X_train,Y_train,batch_size = batch_size, epochs=epochs, shuffle=True,verbose=2,validation_split=0.3 )\n",
    "    "
   ]
  },
  {
   "cell_type": "code",
   "execution_count": 38,
   "metadata": {},
   "outputs": [
    {
     "name": "stdout",
     "output_type": "stream",
     "text": [
      " test set \n",
      "\n",
      " The test loss is %f  [2.920068817138672, 0.8178396594524383]\n",
      "\n",
      " The accuracy of the model is 0.089200 \n"
     ]
    }
   ],
   "source": [
    "#    第六步：輸出\n",
    " \n",
    "print ( \" test set \" )\n",
    "scores = model.evaluate(X_test,Y_test,batch_size=200,verbose= 0)\n",
    "print ( \"\" )\n",
    "#print ( \" The test loss is %f \" % scores)\n",
    "print ( \" The test loss is %f \", scores)\n",
    "result = model.predict(X_test,batch_size=200,verbose= 0)\n",
    "\n",
    "result_max = numpy.argmax(result, axis = 1 )\n",
    "test_max = numpy.argmax(Y_test, axis = 1 )\n",
    "\n",
    "result_bool = numpy.equal(result_max, test_max)\n",
    "true_num = numpy.sum(result_bool)\n",
    "print ( \"\" )\n",
    "print ( \" The accuracy of the model is %f \" % (true_num/len(result_bool)))\n"
   ]
  },
  {
   "cell_type": "code",
   "execution_count": 39,
   "metadata": {},
   "outputs": [
    {
     "data": {
      "image/png": "[encoded data removed]",
      "text/plain": [
       "<Figure size 432x288 with 1 Axes>"
      ]
     },
     "metadata": {},
     "output_type": "display_data"
    },
    {
     "data": {
      "image/png": "[encoded data removed]",
      "text/plain": [
       "<Figure size 432x288 with 1 Axes>"
      ]
     },
     "metadata": {},
     "output_type": "display_data"
    }
   ],
   "source": [
    "import matplotlib.pyplot as plt\n",
    "\n",
    "%matplotlib inline\n",
    "\n",
    "# history = model.fit(x, y, validation_split=0.25, epochs=50, batch_size=16, verbose=1)\n",
    "\n",
    "# Plot training & validation accuracy values\n",
    "plt.plot(history.history['acc'])\n",
    "plt.plot(history.history['val_acc'])\n",
    "plt.title('Model accuracy')\n",
    "plt.ylabel('Accuracy')\n",
    "plt.xlabel('Epoch')\n",
    "plt.legend(['Train', 'Test'], loc='upper left')\n",
    "plt.show()\n",
    "\n",
    "# Plot training & validation loss values\n",
    "plt.plot(history.history['loss'])\n",
    "plt.plot(history.history['val_loss'])\n",
    "plt.title('Model loss')\n",
    "plt.ylabel('Loss')\n",
    "plt.xlabel('Epoch')\n",
    "plt.legend(['Train', 'Test'], loc='upper left')\n",
    "plt.show()"
   ]
  },
  {
   "cell_type": "code",
   "execution_count": 40,
   "metadata": {},
   "outputs": [
    {
     "name": "stdout",
     "output_type": "stream",
     "text": [
      "Train on 42000 samples, validate on 18000 samples\n",
      "Epoch 1/10\n",
      " - 7s - loss: 2.9172 - acc: 0.8180 - val_loss: 2.9145 - val_acc: 0.8182\n",
      "Epoch 2/10\n",
      " - 6s - loss: 2.9172 - acc: 0.8180 - val_loss: 2.9145 - val_acc: 0.8182\n",
      "Epoch 3/10\n",
      " - 6s - loss: 2.9172 - acc: 0.8180 - val_loss: 2.9145 - val_acc: 0.8182\n",
      "Epoch 4/10\n",
      " - 6s - loss: 2.9172 - acc: 0.8180 - val_loss: 2.9145 - val_acc: 0.8182\n",
      "Epoch 5/10\n",
      " - 6s - loss: 2.9172 - acc: 0.8180 - val_loss: 2.9145 - val_acc: 0.8182\n",
      "Epoch 6/10\n",
      " - 6s - loss: 2.9172 - acc: 0.8180 - val_loss: 2.9145 - val_acc: 0.8182\n",
      "Epoch 7/10\n",
      " - 6s - loss: 2.9172 - acc: 0.8180 - val_loss: 2.9145 - val_acc: 0.8182\n",
      "Epoch 8/10\n",
      " - 6s - loss: 2.9172 - acc: 0.8180 - val_loss: 2.9145 - val_acc: 0.8182\n",
      "Epoch 9/10\n",
      " - 6s - loss: 2.9172 - acc: 0.8180 - val_loss: 2.9145 - val_acc: 0.8182\n",
      "Epoch 10/10\n",
      " - 6s - loss: 2.9172 - acc: 0.8180 - val_loss: 2.9145 - val_acc: 0.8182\n"
     ]
    }
   ],
   "source": [
    "'''\n",
    " SGD(隨機梯度下降) - Arguments\n",
    "lr: float >= 0. Learning rate.\n",
    "momentum: float >= 0. Parameter that accelerates SGD in the relevant direction and dampens oscillations.\n",
    "decay: float >= 0. Learning rate decay over each update.\n",
    "nesterov: boolean. Whether to apply Nesterov momentum.\n",
    "'''\n",
    "\n",
    "opt = optimizers.SGD(lr=0.01, decay=1e-6, momentum=0.9, nesterov=True)\n",
    "model.compile(optimizer = opt, loss = 'binary_crossentropy', metrics = ['accuracy'])\n",
    "history = model.fit(X_train,Y_train,batch_size = batch_size, epochs=epochs, shuffle=True,verbose=2,validation_split=0.3 )"
   ]
  },
  {
   "cell_type": "code",
   "execution_count": 41,
   "metadata": {},
   "outputs": [
    {
     "name": "stdout",
     "output_type": "stream",
     "text": [
      " test set \n",
      "\n",
      " The test loss is %f  [2.920068817138672, 0.8178396594524383]\n",
      "\n",
      " The accuracy of the model is 0.089200 \n"
     ]
    }
   ],
   "source": [
    "print ( \" test set \" )\n",
    "scores = model.evaluate(X_test,Y_test,batch_size=200,verbose= 0)\n",
    "print ( \"\" )\n",
    "#print ( \" The test loss is %f \" % scores)\n",
    "print ( \" The test loss is %f \", scores)\n",
    "result = model.predict(X_test,batch_size=200,verbose= 0)\n",
    "\n",
    "result_max = numpy.argmax(result, axis = 1 )\n",
    "test_max = numpy.argmax(Y_test, axis = 1 )\n",
    "\n",
    "result_bool = numpy.equal(result_max, test_max)\n",
    "true_num = numpy.sum(result_bool)\n",
    "print ( \"\" )\n",
    "print ( \" The accuracy of the model is %f \" % (true_num/len(result_bool)))"
   ]
  },
  {
   "cell_type": "code",
   "execution_count": 42,
   "metadata": {},
   "outputs": [
    {
     "data": {
      "image/png": "[encoded data removed]",
      "text/plain": [
       "<Figure size 432x288 with 1 Axes>"
      ]
     },
     "metadata": {},
     "output_type": "display_data"
    },
    {
     "data": {
      "image/png": "[encoded data removed]",
      "text/plain": [
       "<Figure size 432x288 with 1 Axes>"
      ]
     },
     "metadata": {},
     "output_type": "display_data"
    }
   ],
   "source": [
    "import matplotlib.pyplot as plt\n",
    "\n",
    "%matplotlib inline\n",
    "\n",
    "# history = model.fit(x, y, validation_split=0.25, epochs=50, batch_size=16, verbose=1)\n",
    "\n",
    "# Plot training & validation accuracy values\n",
    "plt.plot(history.history['acc'])\n",
    "plt.plot(history.history['val_acc'])\n",
    "plt.title('Model accuracy')\n",
    "plt.ylabel('Accuracy')\n",
    "plt.xlabel('Epoch')\n",
    "plt.legend(['Train', 'Test'], loc='upper left')\n",
    "plt.show()\n",
    "\n",
    "# Plot training & validation loss values\n",
    "plt.plot(history.history['loss'])\n",
    "plt.plot(history.history['val_loss'])\n",
    "plt.title('Model loss')\n",
    "plt.ylabel('Loss')\n",
    "plt.xlabel('Epoch')\n",
    "plt.legend(['Train', 'Test'], loc='upper left')\n",
    "plt.show()"
   ]
  },
  {
   "cell_type": "code",
   "execution_count": 43,
   "metadata": {},
   "outputs": [
    {
     "name": "stdout",
     "output_type": "stream",
     "text": [
      "Train on 42000 samples, validate on 18000 samples\n",
      "Epoch 1/10\n",
      " - 7s - loss: 2.9172 - acc: 0.8180 - val_loss: 2.9145 - val_acc: 0.8182\n",
      "Epoch 2/10\n",
      " - 7s - loss: 2.9172 - acc: 0.8180 - val_loss: 2.9145 - val_acc: 0.8182\n",
      "Epoch 3/10\n",
      " - 7s - loss: 2.9172 - acc: 0.8180 - val_loss: 2.9145 - val_acc: 0.8182\n",
      "Epoch 4/10\n",
      " - 7s - loss: 2.9172 - acc: 0.8180 - val_loss: 2.9145 - val_acc: 0.8182\n",
      "Epoch 5/10\n",
      " - 6s - loss: 2.9172 - acc: 0.8180 - val_loss: 2.9145 - val_acc: 0.8182\n",
      "Epoch 6/10\n",
      " - 6s - loss: 2.9172 - acc: 0.8180 - val_loss: 2.9145 - val_acc: 0.8182\n",
      "Epoch 7/10\n",
      " - 7s - loss: 2.9172 - acc: 0.8180 - val_loss: 2.9145 - val_acc: 0.8182\n",
      "Epoch 8/10\n",
      " - 7s - loss: 2.9172 - acc: 0.8180 - val_loss: 2.9145 - val_acc: 0.8182\n",
      "Epoch 9/10\n",
      " - 7s - loss: 2.9172 - acc: 0.8180 - val_loss: 2.9145 - val_acc: 0.8182\n",
      "Epoch 10/10\n",
      " - 7s - loss: 2.9172 - acc: 0.8180 - val_loss: 2.9145 - val_acc: 0.8182\n"
     ]
    }
   ],
   "source": [
    "'''\n",
    "RMSprop- Arguments\n",
    "lr: float >= 0. Learning rate.\n",
    "rho: float >= 0.\n",
    "epsilon: float >= 0. Fuzz factor. If None, defaults to K.epsilon().\n",
    "decay: float >= 0. Learning rate decay over each update.\n",
    "'''\n",
    "opt = optimizers.RMSprop(lr=0.001, epsilon=None, decay=0.0)\n",
    "model.compile(optimizer = opt, loss = 'binary_crossentropy', metrics = ['accuracy'])\n",
    "history = model.fit(X_train,Y_train,batch_size = batch_size, epochs=epochs, shuffle=True,verbose=2,validation_split=0.3 )"
   ]
  },
  {
   "cell_type": "code",
   "execution_count": 44,
   "metadata": {},
   "outputs": [
    {
     "name": "stdout",
     "output_type": "stream",
     "text": [
      " test set \n",
      "\n",
      " The test loss is %f  [2.920068817138672, 0.8178396594524383]\n",
      "\n",
      " The accuracy of the model is 0.089200 \n"
     ]
    }
   ],
   "source": [
    "print ( \" test set \" )\n",
    "scores = model.evaluate(X_test,Y_test,batch_size=200,verbose= 0)\n",
    "print ( \"\" )\n",
    "#print ( \" The test loss is %f \" % scores)\n",
    "print ( \" The test loss is %f \", scores)\n",
    "result = model.predict(X_test,batch_size=200,verbose= 0)\n",
    "\n",
    "result_max = numpy.argmax(result, axis = 1 )\n",
    "test_max = numpy.argmax(Y_test, axis = 1 )\n",
    "\n",
    "result_bool = numpy.equal(result_max, test_max)\n",
    "true_num = numpy.sum(result_bool)\n",
    "print ( \"\" )\n",
    "print ( \" The accuracy of the model is %f \" % (true_num/len(result_bool)))"
   ]
  },
  {
   "cell_type": "code",
   "execution_count": 45,
   "metadata": {},
   "outputs": [
    {
     "data": {
      "image/png": "[encoded data removed]",
      "text/plain": [
       "<Figure size 432x288 with 1 Axes>"
      ]
     },
     "metadata": {},
     "output_type": "display_data"
    },
    {
     "data": {
      "image/png": "[encoded data removed]",
      "text/plain": [
       "<Figure size 432x288 with 1 Axes>"
      ]
     },
     "metadata": {},
     "output_type": "display_data"
    }
   ],
   "source": [
    "import matplotlib.pyplot as plt\n",
    "\n",
    "%matplotlib inline\n",
    "\n",
    "# history = model.fit(x, y, validation_split=0.25, epochs=50, batch_size=16, verbose=1)\n",
    "\n",
    "# Plot training & validation accuracy values\n",
    "plt.plot(history.history['acc'])\n",
    "plt.plot(history.history['val_acc'])\n",
    "plt.title('Model accuracy')\n",
    "plt.ylabel('Accuracy')\n",
    "plt.xlabel('Epoch')\n",
    "plt.legend(['Train', 'Test'], loc='upper left')\n",
    "plt.show()\n",
    "\n",
    "# Plot training & validation loss values\n",
    "plt.plot(history.history['loss'])\n",
    "plt.plot(history.history['val_loss'])\n",
    "plt.title('Model loss')\n",
    "plt.ylabel('Loss')\n",
    "plt.xlabel('Epoch')\n",
    "plt.legend(['Train', 'Test'], loc='upper left')\n",
    "plt.show()"
   ]
  },
  {
   "cell_type": "code",
   "execution_count": null,
   "metadata": {},
   "outputs": [],
   "source": []
  }
 ],
 "metadata": {
  "kernelspec": {
   "display_name": "Python 3",
   "language": "python",
   "name": "python3"
  },
  "language_info": {
   "codemirror_mode": {
    "name": "ipython",
    "version": 3
   },
   "file_extension": ".py",
   "mimetype": "text/x-python",
   "name": "python",
   "nbconvert_exporter": "python",
   "pygments_lexer": "ipython3",
   "version": "3.5.5"
  }
 },
 "nbformat": 4,
 "nbformat_minor": 2
}
